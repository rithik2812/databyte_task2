{
 "cells": [
  {
   "cell_type": "code",
   "execution_count": 9,
   "id": "99f80335",
   "metadata": {},
   "outputs": [
    {
     "name": "stdout",
     "output_type": "stream",
     "text": [
      "Requirement already satisfied: youtube-transcript-api in c:\\users\\anand\\anaconda3\\lib\\site-packages (0.6.2)\n",
      "Requirement already satisfied: nltk in c:\\users\\anand\\anaconda3\\lib\\site-packages (3.7)\n",
      "Requirement already satisfied: transformers in c:\\users\\anand\\anaconda3\\lib\\site-packages (4.24.0)\n",
      "Requirement already satisfied: requests in c:\\users\\anand\\anaconda3\\lib\\site-packages (from youtube-transcript-api) (2.28.1)\n",
      "Requirement already satisfied: joblib in c:\\users\\anand\\anaconda3\\lib\\site-packages (from nltk) (1.1.1)\n",
      "Requirement already satisfied: click in c:\\users\\anand\\anaconda3\\lib\\site-packages (from nltk) (8.0.4)\n",
      "Requirement already satisfied: regex>=2021.8.3 in c:\\users\\anand\\anaconda3\\lib\\site-packages (from nltk) (2022.7.9)\n",
      "Requirement already satisfied: tqdm in c:\\users\\anand\\anaconda3\\lib\\site-packages (from nltk) (4.64.1)\n",
      "Requirement already satisfied: tokenizers!=0.11.3,<0.14,>=0.11.1 in c:\\users\\anand\\anaconda3\\lib\\site-packages (from transformers) (0.11.4)\n",
      "Requirement already satisfied: filelock in c:\\users\\anand\\anaconda3\\lib\\site-packages (from transformers) (3.9.0)\n",
      "Requirement already satisfied: huggingface-hub<1.0,>=0.10.0 in c:\\users\\anand\\anaconda3\\lib\\site-packages (from transformers) (0.10.1)\n",
      "Requirement already satisfied: pyyaml>=5.1 in c:\\users\\anand\\anaconda3\\lib\\site-packages (from transformers) (6.0)\n",
      "Requirement already satisfied: numpy>=1.17 in c:\\users\\anand\\anaconda3\\lib\\site-packages (from transformers) (1.23.5)\n",
      "Requirement already satisfied: packaging>=20.0 in c:\\users\\anand\\anaconda3\\lib\\site-packages (from transformers) (22.0)\n",
      "Requirement already satisfied: typing-extensions>=3.7.4.3 in c:\\users\\anand\\anaconda3\\lib\\site-packages (from huggingface-hub<1.0,>=0.10.0->transformers) (4.12.2)\n",
      "Requirement already satisfied: colorama in c:\\users\\anand\\anaconda3\\lib\\site-packages (from tqdm->nltk) (0.4.6)\n",
      "Requirement already satisfied: charset-normalizer<3,>=2 in c:\\users\\anand\\anaconda3\\lib\\site-packages (from requests->youtube-transcript-api) (2.0.4)\n",
      "Requirement already satisfied: certifi>=2017.4.17 in c:\\users\\anand\\anaconda3\\lib\\site-packages (from requests->youtube-transcript-api) (2022.12.7)\n",
      "Requirement already satisfied: idna<4,>=2.5 in c:\\users\\anand\\anaconda3\\lib\\site-packages (from requests->youtube-transcript-api) (3.4)\n",
      "Requirement already satisfied: urllib3<1.27,>=1.21.1 in c:\\users\\anand\\anaconda3\\lib\\site-packages (from requests->youtube-transcript-api) (1.26.14)\n",
      "Note: you may need to restart the kernel to use updated packages.\n"
     ]
    }
   ],
   "source": [
    "pip install youtube-transcript-api nltk transformers\n"
   ]
  },
  {
   "cell_type": "code",
   "execution_count": 1,
   "id": "64f7e93a",
   "metadata": {},
   "outputs": [],
   "source": [
    "from youtube_transcript_api import YouTubeTranscriptApi"
   ]
  },
  {
   "cell_type": "code",
   "execution_count": 2,
   "id": "96e73649",
   "metadata": {},
   "outputs": [],
   "source": [
    "import tkinter as tk\n",
    "from tkinter import messagebox\n",
    "import nltk\n",
    "from nltk.corpus import stopwords\n",
    "from nltk.tokenize import word_tokenize, sent_tokenize\n",
    "from nltk.probability import FreqDist\n",
    "import re\n",
    "from tkinter import messagebox, scrolledtext\n"
   ]
  },
  {
   "cell_type": "code",
   "execution_count": 5,
   "id": "aca86277",
   "metadata": {},
   "outputs": [],
   "source": [
    "def extract_video_id(youtube_url):\n",
    "    video_id_match = re.search(r\"(?<=v=)[^&]+\", youtube_url)\n",
    "    if video_id_match:\n",
    "        return video_id_match.group(0)\n",
    "    else:\n",
    "        raise ValueError(\"Invalid YouTube URL. Please enter a valid URL.\")\n",
    "\n",
    "def get_transcript(video_id):\n",
    "    transcript = YouTubeTranscriptApi.get_transcript(video_id)\n",
    "    return \" \".join([item['text'] for item in transcript])\n",
    "\n",
    "def preprocess_text(text):\n",
    "    words = word_tokenize(text.lower())\n",
    "    stop_words = set(stopwords.words('english'))\n",
    "    filtered_words = [word for word in words if word.isalnum() and word not in stop_words]\n",
    "    return \" \".join(filtered_words)\n",
    "\n",
    "def summarize_text(text, num_sentences=25):\n",
    "    sentences = sent_tokenize(text)\n",
    "    word_frequencies = FreqDist(word_tokenize(text.lower()))\n",
    "    \n",
    "    sentence_scores = {}\n",
    "    for sentence in sentences:\n",
    "        for word in word_tokenize(sentence.lower()):\n",
    "            if word in word_frequencies:\n",
    "                if sentence not in sentence_scores:\n",
    "                    sentence_scores[sentence] = word_frequencies[word]\n",
    "                else:\n",
    "                    sentence_scores[sentence] += word_frequencies[word]\n",
    "    \n",
    "    summary_sentences = sorted(sentence_scores, key=sentence_scores.get, reverse=True)[:num_sentences]\n",
    "    summary = \" \".join(summary_sentences)\n",
    "    \n",
    "    return summary\n",
    "\n",
    "def generate_summary():\n",
    "    youtube_url = url_entry.get()\n",
    "    try:\n",
    "        video_id = extract_video_id(youtube_url)\n",
    "        transcript = get_transcript(video_id)\n",
    "        processed_text = preprocess_text(transcript)\n",
    "        summary = summarize_text(processed_text) \n",
    "        result_text.delete(1.0, tk.END)\n",
    "        result_text.insert(tk.END, summary)\n",
    "    except Exception as e:\n",
    "        messagebox.showerror(\"Error\", str(e))\n",
    "\n",
    "def clear_fields():\n",
    "    url_entry.delete(0, tk.END)\n",
    "    result_text.delete(1.0, tk.END)\n",
    "\n",
    "#tkinter GUI\n",
    "root = tk.Tk()\n",
    "root.title(\"YouTube Transcript Summarizer\")\n",
    "root.geometry(\"800x600\")\n",
    "root.config(bg=\"#e6f2ff\")\n",
    "\n",
    "input_frame = tk.Frame(root, bg=\"#e6f2ff\")\n",
    "input_frame.pack(pady=20)\n",
    "\n",
    "url_label = tk.Label(input_frame, text=\"Enter YouTube Video URL:\", font=(\"Arial\", 12), bg=\"#e6f2ff\", fg=\"#004d80\")\n",
    "url_label.grid(row=0, column=0, padx=5)\n",
    "\n",
    "url_entry = tk.Entry(input_frame, width=60, font=(\"Arial\", 12), bg=\"#ffffff\", fg=\"#004d80\", borderwidth=2, relief=\"solid\")\n",
    "url_entry.grid(row=0, column=1, padx=5)\n",
    "\n",
    "generate_button = tk.Button(input_frame, text=\"Generate Summary\", font=(\"Arial\", 12), bg=\"#4da6ff\", fg=\"#ffffff\", borderwidth=2, relief=\"solid\", command=generate_summary)\n",
    "generate_button.grid(row=0, column=2, padx=5)\n",
    "\n",
    "clear_button = tk.Button(input_frame, text=\"Clear\", font=(\"Arial\", 12), bg=\"#ff6666\", fg=\"#ffffff\", borderwidth=2, relief=\"solid\", command=clear_fields)\n",
    "clear_button.grid(row=0, column=3, padx=5)\n",
    "\n",
    "result_frame = tk.Frame(root, bg=\"#e6f2ff\")\n",
    "result_frame.pack(pady=10)\n",
    "\n",
    "result_text = scrolledtext.ScrolledText(result_frame, wrap=tk.WORD, height=25, width=90, font=(\"Arial\", 12), bg=\"#ffffff\", fg=\"#004d80\", borderwidth=2, relief=\"solid\")\n",
    "result_text.pack()\n",
    "\n",
    "root.mainloop()\n"
   ]
  },
  {
   "cell_type": "code",
   "execution_count": 6,
   "id": "f6342f66",
   "metadata": {},
   "outputs": [
    {
     "data": {
      "text/plain": [
       "'C:\\\\Users\\\\Anand'"
      ]
     },
     "execution_count": 6,
     "metadata": {},
     "output_type": "execute_result"
    }
   ],
   "source": [
    "pwd"
   ]
  },
  {
   "cell_type": "code",
   "execution_count": null,
   "id": "0607c747",
   "metadata": {},
   "outputs": [],
   "source": []
  }
 ],
 "metadata": {
  "kernelspec": {
   "display_name": "Python 3 (ipykernel)",
   "language": "python",
   "name": "python3"
  },
  "language_info": {
   "codemirror_mode": {
    "name": "ipython",
    "version": 3
   },
   "file_extension": ".py",
   "mimetype": "text/x-python",
   "name": "python",
   "nbconvert_exporter": "python",
   "pygments_lexer": "ipython3",
   "version": "3.10.9"
  }
 },
 "nbformat": 4,
 "nbformat_minor": 5
}
